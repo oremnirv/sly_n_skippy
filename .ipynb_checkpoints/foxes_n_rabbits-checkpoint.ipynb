{
 "cells": [
  {
   "cell_type": "markdown",
   "metadata": {},
   "source": [
    "## Import libraries"
   ]
  },
  {
   "cell_type": "code",
   "execution_count": null,
   "metadata": {},
   "outputs": [],
   "source": [
    "import matplotlib.pyplot as plt\n",
    "import numpy as np \n",
    "plt.style.use('ggplot')"
   ]
  },
  {
   "cell_type": "code",
   "execution_count": null,
   "metadata": {},
   "outputs": [],
   "source": []
  },
  {
   "cell_type": "code",
   "execution_count": null,
   "metadata": {},
   "outputs": [],
   "source": [
    "def rabbit_fox_env(x0, y0, α, β, γ, δ, dt = 1e-3, len_t = 100):\n",
    "    '''\n",
    "    Simple loteka-volterra differential equation model - see https://en.wikipedia.org/wiki/Lotka–Volterra_equations\n",
    "    for details of the underlying assumptions.\n",
    "    \n",
    "    ------\n",
    "    Parameters:\n",
    "    x0 (int): initial value for prey (Rabbits)\n",
    "    y0 (int): initial value for Predator (Foxes)\n",
    "    α  (float): intrinsic rate of prey population increase\n",
    "    β  (float): predation rate coefficient\n",
    "    γ  (float): predator mortality rate  \n",
    "    δ  (float): reproduction rate of predators per prey eaten\n",
    "    dt (float): time interval between events\n",
    "    len_t (int): # of events\n",
    "    ------------\n",
    "    Returns:\n",
    "    rabbit (list of floats): # of rabbits at time t\n",
    "    fox (list of floats): # foxes at time t\n",
    "    t (numpy array):  time intervals \n",
    "    x0 (int): initial value for prey (Rabbits)\n",
    "    y0 (int): initial value for Predator (Foxes)\n",
    "    \n",
    "    '''\n",
    "    rabbit = []; fox = []\n",
    "    rabbit.append(x0); fox.append(y0) \n",
    "    t = np.arange(0, len_t, dt)\n",
    "    for idx, _ in enumerate(t):\n",
    "        if (idx == 0):\n",
    "            continue\n",
    "        r = rabbit[-1] ; f = fox[-1]\n",
    "        # The term β * (f * r)  - reminds a binomial experiment.  \n",
    "        rabbit.append(r + dt * (α * r - β * (f * r)))\n",
    "        fox.append(f + dt * (δ * (f * r) - γ * f))\n",
    "    return rabbit, fox, t, x0, y0"
   ]
  },
  {
   "cell_type": "code",
   "execution_count": null,
   "metadata": {},
   "outputs": [],
   "source": []
  },
  {
   "cell_type": "code",
   "execution_count": null,
   "metadata": {},
   "outputs": [],
   "source": [
    "def multi_phase_plot_rabbit_fox(rabbits, foxes, xs, ys):\n",
    "    '''\n",
    "    Phase plot for foxes and rabbits model.\n",
    "    -------------------\n",
    "    Parameters:\n",
    "    rabbits (list of floats): first output from rabbit_fox_env function\n",
    "    foxes (list of floats): second output from rabbit_fox_env function\n",
    "    xs (int): initial value for prey (Rabbits)\n",
    "    ys (int): initial value for Predator (Foxes)\n",
    "    -------------------\n",
    "    \n",
    "    \n",
    "    '''\n",
    "    fig, ax = plt.subplots(figsize=(9,5))\n",
    "    ax.set_xlabel('Rabbit population')\n",
    "    ax.set_ylabel('Fox population')\n",
    "    ax.set_title('Phase space of Rabbits vs. Foxes population')\n",
    "    ## Phase space is a plot ignoring time, so we only care what will be\n",
    "    ## the rabbits vs. foxes population. \n",
    "    ## \"This corresponds to eliminating time from the two differential equations above to produce a single differential equation\"\n",
    "    for rabbit, fox, x0, y0 in zip(rabbits, foxes, xs, ys):\n",
    "        ax.scatter(rabbit, fox, label = \"init prey: {}, pred: {}\".format(str(x0), str(y0)))\n",
    "    ax.legend()\n",
    "    plt.show()"
   ]
  },
  {
   "cell_type": "markdown",
   "metadata": {},
   "source": [
    "#### Input variables:"
   ]
  },
  {
   "cell_type": "code",
   "execution_count": null,
   "metadata": {},
   "outputs": [],
   "source": [
    "α, β, γ, δ = 1.1, 0.4, 0.4, 0.1\n",
    "xs = [10, 10, 20, 15]\n",
    "ys = [10, 20, 5, 5] "
   ]
  },
  {
   "cell_type": "markdown",
   "metadata": {},
   "source": [
    "Assumptions:\n",
    "\n",
    " - The prey population finds ample food at all times.\n",
    " - The food supply of the predator population depends entirely on the size of the prey population.\n",
    " - The rate of change of population is proportional to its size.\n",
    " - During the process, the environment does not change in favour of one species, and genetic adaptation is inconsequential.\n",
    " - Predators have limitless appetite."
   ]
  },
  {
   "cell_type": "code",
   "execution_count": null,
   "metadata": {},
   "outputs": [],
   "source": [
    "rabbit = []\n",
    "fox = []"
   ]
  },
  {
   "cell_type": "code",
   "execution_count": null,
   "metadata": {},
   "outputs": [],
   "source": [
    "for idx, _ in enumerate(t, start=1):\n",
    "    rab_growth = growth_abs(rabbit, idx, δ) \n",
    "    rab_mort = mort_prey(probs, θ, idx, rabbit, fox) \n",
    "    swan = green_swan(rabbit[idx - 1]) \n",
    "    \n",
    "    \n",
    "    rabbit.append(rabbit[idx - 1]\n",
    "                  + rab_growth\n",
    "                  - rab_mort\n",
    "                  - swan)\n",
    "    \n",
    "    \n",
    "    fox_rep = reproduce(γ, rab_mort)\n",
    "    fox_mort = spieces_mort(fox, idx, χ)\n",
    "    fox_swan = green_swan(fox[idx - 1]) \n",
    " \n",
    "    fox.append(fox[idx - 1]   \n",
    "               + fox_rep\n",
    "               - fox_mort\n",
    "               - fox_swan)"
   ]
  },
  {
   "cell_type": "code",
   "execution_count": null,
   "metadata": {},
   "outputs": [],
   "source": [
    "def reproduce(γ, mort_p):\n",
    "    '''\n",
    "    \n",
    "    ---------------------\n",
    "    Parameters:\n",
    "    γ (): \n",
    "    mort_p ():\n",
    "    ---------------------\n",
    "    Returns:\n",
    "    float \n",
    "    \n",
    "    '''\n",
    "    return np.random.binomial(mort_p, γ)"
   ]
  },
  {
   "cell_type": "code",
   "execution_count": null,
   "metadata": {},
   "outputs": [],
   "source": [
    "def green_swan(n, a = 1.5, m = 1):\n",
    "    '''\n",
    "    \n",
    "    '''\n",
    "    s = (np.random.pareto(a, 50000) + 1) * m\n",
    "    s1 = (np.random.pareto(a, 1) + 1) * m\n",
    "    if (s1 > max(s)): \n",
    "        print('SWAN!')\n",
    "    return  np.random.binomial(n, np.random.uniform(0.5, 0.9)) if s1 > max(s) else 0"
   ]
  },
  {
   "cell_type": "code",
   "execution_count": null,
   "metadata": {},
   "outputs": [],
   "source": [
    "def spieces_mort(a, idx, θ):\n",
    "    '''\n",
    "    -----------------------\n",
    "    Parameters:\n",
    "    a : \n",
    "    idx:\n",
    "    θ:\n",
    "    -----------------------\n",
    "    \n",
    "    '''\n",
    "    n = 0 if a[idx - 1] < 0 else a[idx - 1]\n",
    "    return np.random.binomial(n, θ)  "
   ]
  },
  {
   "cell_type": "code",
   "execution_count": null,
   "metadata": {},
   "outputs": [],
   "source": [
    "def mort_prey(probs, θ, idx, rabbit, fox):\n",
    "    '''\n",
    "    \n",
    "    '''\n",
    "    n = 0 if fox[idx - 1] < 0 else fox[idx - 1]\n",
    "    mingled_foxes = np.random.binomial(n, probs[idx - 1])\n",
    "    return mingled_foxes * spieces_mort(rabbit, idx, θ)"
   ]
  },
  {
   "cell_type": "code",
   "execution_count": null,
   "metadata": {},
   "outputs": [],
   "source": [
    "def growth_abs(rabbit, idx, δ):\n",
    "    '''\n",
    "    \n",
    "    '''\n",
    "    n = 0 if rabbit[idx - 1] < 0 else rabbit[idx - 1]\n",
    "    return np.random.binomial(n, δ)"
   ]
  }
 ],
 "metadata": {
  "kernelspec": {
   "display_name": "Python 3",
   "language": "python",
   "name": "python3"
  },
  "language_info": {
   "codemirror_mode": {
    "name": "ipython",
    "version": 3
   },
   "file_extension": ".py",
   "mimetype": "text/x-python",
   "name": "python",
   "nbconvert_exporter": "python",
   "pygments_lexer": "ipython3",
   "version": "3.7.4"
  }
 },
 "nbformat": 4,
 "nbformat_minor": 2
}

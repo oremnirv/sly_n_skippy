{
 "cells": [
  {
   "cell_type": "markdown",
   "metadata": {},
   "source": [
    "## Import libraries"
   ]
  },
  {
   "cell_type": "code",
   "execution_count": 1,
   "metadata": {},
   "outputs": [],
   "source": [
    "from prob_model import probab, random_walk\n",
    "from diff_eq import linearization_sol as diff\n",
    "from plots import plotter \n",
    "import matplotlib.pyplot as plt\n",
    "import numpy as np \n",
    "plt.style.use('ggplot')"
   ]
  },
  {
   "cell_type": "markdown",
   "metadata": {},
   "source": [
    "Assumptions:\n",
    "\n",
    " - The prey population finds ample food at all times.\n",
    " - The food supply of the predator population depends entirely on the size of the prey population.\n",
    " - The rate of change of population is proportional to its size.\n",
    " - During the process, the environment does not change in favour of one species, and genetic adaptation is inconsequential.\n",
    " - Predators have limitless appetite."
   ]
  },
  {
   "cell_type": "markdown",
   "metadata": {},
   "source": [
    "### Differential equation model"
   ]
  },
  {
   "cell_type": "markdown",
   "metadata": {},
   "source": [
    "#### Input variables:"
   ]
  },
  {
   "cell_type": "code",
   "execution_count": 2,
   "metadata": {},
   "outputs": [],
   "source": [
    "α, β, γ, δ = 1.1, 0.4, 0.4, 0.1 # same model parameters, but different dt"
   ]
  },
  {
   "cell_type": "code",
   "execution_count": 3,
   "metadata": {},
   "outputs": [],
   "source": [
    "xys = np.random.randint(50, 250, (1000000, 2)) # different initial cond."
   ]
  },
  {
   "cell_type": "code",
   "execution_count": 4,
   "metadata": {},
   "outputs": [],
   "source": [
    "xs = xys[:, 0]\n",
    "ys = xys[:, 1]"
   ]
  },
  {
   "cell_type": "code",
   "execution_count": 5,
   "metadata": {},
   "outputs": [],
   "source": [
    "rabbits, foxes = diff.multi_init_rabbit_fox_env(xs, ys, α, β, γ, δ)"
   ]
  },
  {
   "cell_type": "code",
   "execution_count": 6,
   "metadata": {
    "scrolled": true
   },
   "outputs": [],
   "source": [
    "pro_rabbits, pro_foxes = probab.multi_init_rabbit_fox_env(xs, ys)   "
   ]
  },
  {
   "cell_type": "code",
   "execution_count": 14,
   "metadata": {
    "scrolled": true
   },
   "outputs": [],
   "source": [
    "cc = []\n",
    "for i in range(pro_foxes.shape[0]):\n",
    "    try:\n",
    "        cc.append(np.where(pro_foxes[i, :] == 0)[0][0])\n",
    "    except: \n",
    "        cc.append(pro_foxes.shape[1])\n",
    "        break"
   ]
  },
  {
   "cell_type": "code",
   "execution_count": 8,
   "metadata": {},
   "outputs": [],
   "source": [
    "pro_rabbits = pro_rabbits[:, :max(cc)]\n",
    "pro_foxes = pro_foxes[:, :max(cc)]"
   ]
  },
  {
   "cell_type": "code",
   "execution_count": 16,
   "metadata": {},
   "outputs": [
    {
     "data": {
      "text/plain": [
       "array([[122., 107., 100., ...,   0.,   0.,   0.],\n",
       "       [ 82.,  78.,  70., ...,   0.,   0.,   0.],\n",
       "       [ 76.,  91.,  97., ...,   0.,   0.,   0.],\n",
       "       ...,\n",
       "       [238., 274., 277., ...,   0.,   0.,   0.],\n",
       "       [204., 217., 208., ...,   0.,   0.,   0.],\n",
       "       [ 64.,  74.,  72., ...,   0.,   0.,   0.]])"
      ]
     },
     "execution_count": 16,
     "metadata": {},
     "output_type": "execute_result"
    }
   ],
   "source": [
    "pro_rabbits"
   ]
  },
  {
   "cell_type": "code",
   "execution_count": 34,
   "metadata": {},
   "outputs": [],
   "source": [
    "t = np.arange(0, 1/8, 5e-4)"
   ]
  },
  {
   "cell_type": "code",
   "execution_count": 35,
   "metadata": {},
   "outputs": [
    {
     "data": {
      "text/plain": [
       "0.001"
      ]
     },
     "execution_count": 35,
     "metadata": {},
     "output_type": "execute_result"
    }
   ],
   "source": [
    "t[]"
   ]
  },
  {
   "cell_type": "code",
   "execution_count": 30,
   "metadata": {},
   "outputs": [
    {
     "data": {
      "text/plain": [
       "array([0.   , 0.001, 0.002, 0.003, 0.004, 0.005, 0.006, 0.007, 0.008,\n",
       "       0.009, 0.01 , 0.011, 0.012, 0.013, 0.014, 0.015, 0.016, 0.017,\n",
       "       0.018, 0.019, 0.02 , 0.021, 0.022, 0.023, 0.024, 0.025, 0.026,\n",
       "       0.027, 0.028, 0.029, 0.03 , 0.031, 0.032, 0.033, 0.034, 0.035,\n",
       "       0.036, 0.037, 0.038, 0.039, 0.04 , 0.041, 0.042, 0.043, 0.044,\n",
       "       0.045, 0.046, 0.047, 0.048, 0.049, 0.05 , 0.051, 0.052, 0.053,\n",
       "       0.054, 0.055, 0.056, 0.057, 0.058, 0.059, 0.06 , 0.061, 0.062,\n",
       "       0.063, 0.064, 0.065, 0.066, 0.067, 0.068, 0.069, 0.07 , 0.071,\n",
       "       0.072, 0.073, 0.074, 0.075, 0.076, 0.077, 0.078, 0.079, 0.08 ,\n",
       "       0.081, 0.082, 0.083, 0.084, 0.085, 0.086, 0.087, 0.088, 0.089,\n",
       "       0.09 , 0.091, 0.092, 0.093, 0.094, 0.095, 0.096, 0.097, 0.098,\n",
       "       0.099, 0.1  , 0.101, 0.102, 0.103, 0.104, 0.105, 0.106, 0.107,\n",
       "       0.108, 0.109, 0.11 , 0.111, 0.112, 0.113, 0.114, 0.115, 0.116,\n",
       "       0.117, 0.118, 0.119, 0.12 , 0.121, 0.122, 0.123, 0.124])"
      ]
     },
     "execution_count": 30,
     "metadata": {},
     "output_type": "execute_result"
    }
   ],
   "source": [
    "t"
   ]
  },
  {
   "cell_type": "code",
   "execution_count": 18,
   "metadata": {},
   "outputs": [],
   "source": [
    "def create_dt_feature(t, standardize = False, normalize = False):\n",
    "    '''\n",
    "    \n",
    "    '''\n",
    "    cum_t = np.cumsum(t)\n",
    "    if standardize:\n",
    "        cum_t = (cum_t - np.mean(cum_t)) / np.std(cum_t)\n",
    "        return cum_t\n",
    "    elif normalize:\n",
    "        cum_t = cum_t - np.min(cum_t) / (np.max(cum_t) -  np.min(cum_t))\n",
    "    \n",
    "    return cum_t"
   ]
  },
  {
   "cell_type": "code",
   "execution_count": null,
   "metadata": {
    "scrolled": false
   },
   "outputs": [],
   "source": [
    "# Takes long time to run\n",
    "plotter.multi_phase_plot_rabbit_fox(rabbits, foxes, xs, ys)"
   ]
  },
  {
   "cell_type": "markdown",
   "metadata": {},
   "source": [
    "### Probablistic model"
   ]
  },
  {
   "cell_type": "code",
   "execution_count": null,
   "metadata": {},
   "outputs": [],
   "source": [
    "## probs are the mingling probabilities that depend on the temperatures"
   ]
  },
  {
   "cell_type": "code",
   "execution_count": null,
   "metadata": {},
   "outputs": [],
   "source": [
    "if __name__ == '__main__':\n",
    "    xs = [10, 10, 20, 15]\n",
    "    ys = [10, 20, 5, 5] \n",
    "    θ = np.random.beta(1, 10)\n",
    "    δ = np.random.beta(1, 5)\n",
    "    χ = np.random.beta(1, 10)\n",
    "    # reproduction rate per 1 prey eaten\n",
    "    γ = np.random.beta(1, 10)\n",
    "    \n",
    "    temp, probs = random_walk.mean_revert_rand_walk_gausian_step()\n",
    "    rabbits = []; foxes = []\n",
    "    for x0, y0 in zip(xs, ys):\n",
    "        rabbit = []; fox = []\n",
    "        rabbit.append(x0); fox.append(y0)\n",
    "        for idx, _ in enumerate(temp, start=1):\n",
    "#           print('rabbit population: ', rabbit[-1])\n",
    "\n",
    "            rab_growth = probab.growth_abs(rabbit, idx, δ)\n",
    "#           print('rabbit growth: ', rab_growth)\n",
    "            rab_mort = probab.mort_prey(probs, θ, idx, rabbit, fox)  \n",
    "#           print('rabbit mortality: ', rab_mort)\n",
    "\n",
    "            rabbit.append(rabbit[idx - 1]\n",
    "                          + rab_growth\n",
    "                          - rab_mort)\n",
    "\n",
    "            if (rabbit[-1] <= 1):\n",
    "                break\n",
    "\n",
    "#           print('fox population: ', fox[-1])\n",
    "\n",
    "            fox_rep = probab.reproduce(γ, rab_mort, fox[idx - 1])\n",
    "            fox_mort = probab.spieces_mort(fox, idx, χ)\n",
    "\n",
    "            fox.append(fox[idx - 1]   \n",
    "                       + fox_rep\n",
    "                       - fox_mort)\n",
    "\n",
    "            if (fox[-1] <= 1):\n",
    "                break\n",
    "        rabbits.append(rabbit); foxes.append(fox) "
   ]
  },
  {
   "cell_type": "code",
   "execution_count": null,
   "metadata": {},
   "outputs": [],
   "source": []
  }
 ],
 "metadata": {
  "kernelspec": {
   "display_name": "Python 3",
   "language": "python",
   "name": "python3"
  },
  "language_info": {
   "codemirror_mode": {
    "name": "ipython",
    "version": 3
   },
   "file_extension": ".py",
   "mimetype": "text/x-python",
   "name": "python",
   "nbconvert_exporter": "python",
   "pygments_lexer": "ipython3",
   "version": "3.7.4"
  }
 },
 "nbformat": 4,
 "nbformat_minor": 2
}

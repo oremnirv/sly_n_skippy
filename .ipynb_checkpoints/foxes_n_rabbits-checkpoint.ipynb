{
 "cells": [
  {
   "cell_type": "markdown",
   "metadata": {},
   "source": [
    "## Import libraries"
   ]
  },
  {
   "cell_type": "code",
   "execution_count": 1,
   "metadata": {},
   "outputs": [],
   "source": [
    "from prob_model import probab, random_walk\n",
    "from diff_eq import linearization_sol as diff\n",
    "from plots import plotter \n",
    "import matplotlib.pyplot as plt\n",
    "import numpy as np \n",
    "plt.style.use('ggplot')"
   ]
  },
  {
   "cell_type": "markdown",
   "metadata": {},
   "source": [
    "Assumptions:\n",
    "\n",
    " - The prey population finds ample food at all times.\n",
    " - The food supply of the predator population depends entirely on the size of the prey population.\n",
    " - The rate of change of population is proportional to its size.\n",
    " - During the process, the environment does not change in favour of one species, and genetic adaptation is inconsequential.\n",
    " - Predators have limitless appetite."
   ]
  },
  {
   "cell_type": "markdown",
   "metadata": {},
   "source": [
    "### Differential equation model"
   ]
  },
  {
   "cell_type": "markdown",
   "metadata": {},
   "source": [
    "#### Input variables:"
   ]
  },
  {
   "cell_type": "code",
   "execution_count": 2,
   "metadata": {},
   "outputs": [],
   "source": [
    "α, β, γ, δ = 1.1, 0.4, 0.4, 0.1"
   ]
  },
  {
   "cell_type": "code",
   "execution_count": 3,
   "metadata": {},
   "outputs": [],
   "source": [
    "xys = np.random.randint(50, 250, (1000000, 2))"
   ]
  },
  {
   "cell_type": "code",
   "execution_count": 4,
   "metadata": {},
   "outputs": [],
   "source": [
    "xs = xys[:, 0]\n",
    "ys = xys[:, 1]"
   ]
  },
  {
   "cell_type": "code",
   "execution_count": 5,
   "metadata": {},
   "outputs": [],
   "source": [
    "rabbits, foxes = diff.multi_init_rabbit_fox_env(xs, ys, α, β, γ, δ)"
   ]
  },
  {
   "cell_type": "code",
   "execution_count": 6,
   "metadata": {
    "scrolled": true
   },
   "outputs": [],
   "source": [
    "pro_rabbits, pro_foxes = probab.multi_init_rabbit_fox_env(xs, ys)   "
   ]
  },
  {
   "cell_type": "code",
   "execution_count": 14,
   "metadata": {
    "scrolled": true
   },
   "outputs": [],
   "source": [
    "cc = []\n",
    "for i in range(pro_foxes.shape[0]):\n",
    "    try:\n",
    "        cc.append(np.where(pro_foxes[i, :] == 0)[0][0])\n",
    "    except: \n",
    "        cc.append(pro_foxes.shape[1])\n",
    "        break"
   ]
  },
  {
   "cell_type": "code",
   "execution_count": 8,
   "metadata": {},
   "outputs": [],
   "source": [
    "pro_rabbits = pro_rabbits[:, :max(cc)]\n",
    "pro_foxes = pro_foxes[:, :max(cc)]"
   ]
  },
  {
   "cell_type": "code",
   "execution_count": null,
   "metadata": {},
   "outputs": [],
   "source": [
    "for idx in range(len(rabbits)):\n",
    "    rabbits[idx] + pro_rabbits[idx]\n",
    "    "
   ]
  },
  {
   "cell_type": "code",
   "execution_count": null,
   "metadata": {
    "scrolled": false
   },
   "outputs": [],
   "source": [
    "# Takes long time to run\n",
    "plotter.multi_phase_plot_rabbit_fox(rabbits, foxes, xs, ys)"
   ]
  },
  {
   "cell_type": "markdown",
   "metadata": {},
   "source": [
    "### Probablistic model"
   ]
  },
  {
   "cell_type": "code",
   "execution_count": null,
   "metadata": {},
   "outputs": [],
   "source": [
    "## probs are the mingling probabilities that depend on the temperatures"
   ]
  },
  {
   "cell_type": "code",
   "execution_count": null,
   "metadata": {},
   "outputs": [],
   "source": [
    "if __name__ == '__main__':\n",
    "    xs = [10, 10, 20, 15]\n",
    "    ys = [10, 20, 5, 5] \n",
    "    θ = np.random.beta(1, 10)\n",
    "    δ = np.random.beta(1, 5)\n",
    "    χ = np.random.beta(1, 10)\n",
    "    # reproduction rate per 1 prey eaten\n",
    "    γ = np.random.beta(1, 10)\n",
    "    \n",
    "    temp, probs = random_walk.mean_revert_rand_walk_gausian_step()\n",
    "    rabbits = []; foxes = []\n",
    "    for x0, y0 in zip(xs, ys):\n",
    "        rabbit = []; fox = []\n",
    "        rabbit.append(x0); fox.append(y0)\n",
    "        for idx, _ in enumerate(temp, start=1):\n",
    "#           print('rabbit population: ', rabbit[-1])\n",
    "\n",
    "            rab_growth = probab.growth_abs(rabbit, idx, δ)\n",
    "#           print('rabbit growth: ', rab_growth)\n",
    "            rab_mort = probab.mort_prey(probs, θ, idx, rabbit, fox)  \n",
    "#           print('rabbit mortality: ', rab_mort)\n",
    "\n",
    "            rabbit.append(rabbit[idx - 1]\n",
    "                          + rab_growth\n",
    "                          - rab_mort)\n",
    "\n",
    "            if (rabbit[-1] <= 1):\n",
    "                break\n",
    "\n",
    "#           print('fox population: ', fox[-1])\n",
    "\n",
    "            fox_rep = probab.reproduce(γ, rab_mort, fox[idx - 1])\n",
    "            fox_mort = probab.spieces_mort(fox, idx, χ)\n",
    "\n",
    "            fox.append(fox[idx - 1]   \n",
    "                       + fox_rep\n",
    "                       - fox_mort)\n",
    "\n",
    "            if (fox[-1] <= 1):\n",
    "                break\n",
    "        rabbits.append(rabbit); foxes.append(fox) "
   ]
  },
  {
   "cell_type": "code",
   "execution_count": null,
   "metadata": {},
   "outputs": [],
   "source": []
  }
 ],
 "metadata": {
  "kernelspec": {
   "display_name": "Python 3",
   "language": "python",
   "name": "python3"
  },
  "language_info": {
   "codemirror_mode": {
    "name": "ipython",
    "version": 3
   },
   "file_extension": ".py",
   "mimetype": "text/x-python",
   "name": "python",
   "nbconvert_exporter": "python",
   "pygments_lexer": "ipython3",
   "version": "3.7.4"
  }
 },
 "nbformat": 4,
 "nbformat_minor": 2
}
